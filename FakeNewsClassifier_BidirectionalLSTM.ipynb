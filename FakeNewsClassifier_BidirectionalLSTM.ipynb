{
  "nbformat": 4,
  "nbformat_minor": 0,
  "metadata": {
    "colab": {
      "name": "FakeNewsClassifier-BidirectionalLSTM.ipynb",
      "provenance": [],
      "collapsed_sections": []
    },
    "kernelspec": {
      "name": "python3",
      "display_name": "Python 3"
    }
  },
  "cells": [
    {
      "cell_type": "code",
      "metadata": {
        "colab": {
          "base_uri": "https://localhost:8080/"
        },
        "id": "GP3TK9jBvMK3",
        "outputId": "0bbab377-ae22-443b-c796-f794643e4309"
      },
      "source": [
        "import pandas as pd\n",
        "import numpy as np\n",
        "from tensorflow.keras.models import Sequential\n",
        "from tensorflow.keras.layers import LSTM\n",
        "from tensorflow.keras.layers import Dense\n",
        "from tensorflow.keras.layers import Bidirectional\n",
        "from tensorflow.keras.layers import Dropout\n",
        "from tensorflow.keras.preprocessing.text import one_hot\n",
        "from sklearn.model_selection import train_test_split\n",
        "from tensorflow.keras.layers import Embedding\n",
        "#Pretty much crucial for all NLP tasks\n",
        "from tensorflow.keras.preprocessing.sequence import pad_sequences\n",
        "#To ensure that the sentences are of the same size\n",
        "import nltk\n",
        "#Natural Language ToolKit\n",
        "import re\n",
        "#Regular expressions\n",
        "from nltk.corpus import stopwords\n",
        "nltk.download('stopwords')\n",
        "from nltk.stem.porter import PorterStemmer\n",
        "#To implement stemming and stopwords (removing high freq words, finding the stem of a word)\n",
        "#Fundamental preprocessing to Information Retrieval tasks.\n",
        "from sklearn.metrics import accuracy_score\n",
        "from sklearn.metrics import classification_report\n",
        "from sklearn.metrics import confusion_matrix"
      ],
      "execution_count": 41,
      "outputs": [
        {
          "output_type": "stream",
          "text": [
            "[nltk_data] Downloading package stopwords to /root/nltk_data...\n",
            "[nltk_data]   Package stopwords is already up-to-date!\n"
          ],
          "name": "stdout"
        }
      ]
    },
    {
      "cell_type": "code",
      "metadata": {
        "id": "rlHs5ptIvVoa"
      },
      "source": [
        "df=pd.read_csv('/content/drive/My Drive/data/FakeNewsClassifier/train.csv')\n",
        "# https://www.kaggle.com/c/fake-news/data#"
      ],
      "execution_count": 4,
      "outputs": []
    },
    {
      "cell_type": "code",
      "metadata": {
        "colab": {
          "base_uri": "https://localhost:8080/",
          "height": 375
        },
        "id": "tX1wbxZn1Rco",
        "outputId": "c3b064d1-a1cf-46e1-984c-1288521f9c24"
      },
      "source": [
        "df = df.dropna()\n",
        "#Dropping NaN values\n",
        "df.head()"
      ],
      "execution_count": 6,
      "outputs": [
        {
          "output_type": "execute_result",
          "data": {
            "text/html": [
              "<div>\n",
              "<style scoped>\n",
              "    .dataframe tbody tr th:only-of-type {\n",
              "        vertical-align: middle;\n",
              "    }\n",
              "\n",
              "    .dataframe tbody tr th {\n",
              "        vertical-align: top;\n",
              "    }\n",
              "\n",
              "    .dataframe thead th {\n",
              "        text-align: right;\n",
              "    }\n",
              "</style>\n",
              "<table border=\"1\" class=\"dataframe\">\n",
              "  <thead>\n",
              "    <tr style=\"text-align: right;\">\n",
              "      <th></th>\n",
              "      <th>id</th>\n",
              "      <th>title</th>\n",
              "      <th>author</th>\n",
              "      <th>text</th>\n",
              "      <th>label</th>\n",
              "    </tr>\n",
              "  </thead>\n",
              "  <tbody>\n",
              "    <tr>\n",
              "      <th>0</th>\n",
              "      <td>0</td>\n",
              "      <td>House Dem Aide: We Didn’t Even See Comey’s Let...</td>\n",
              "      <td>Darrell Lucus</td>\n",
              "      <td>House Dem Aide: We Didn’t Even See Comey’s Let...</td>\n",
              "      <td>1</td>\n",
              "    </tr>\n",
              "    <tr>\n",
              "      <th>1</th>\n",
              "      <td>1</td>\n",
              "      <td>FLYNN: Hillary Clinton, Big Woman on Campus - ...</td>\n",
              "      <td>Daniel J. Flynn</td>\n",
              "      <td>Ever get the feeling your life circles the rou...</td>\n",
              "      <td>0</td>\n",
              "    </tr>\n",
              "    <tr>\n",
              "      <th>2</th>\n",
              "      <td>2</td>\n",
              "      <td>Why the Truth Might Get You Fired</td>\n",
              "      <td>Consortiumnews.com</td>\n",
              "      <td>Why the Truth Might Get You Fired October 29, ...</td>\n",
              "      <td>1</td>\n",
              "    </tr>\n",
              "    <tr>\n",
              "      <th>3</th>\n",
              "      <td>3</td>\n",
              "      <td>15 Civilians Killed In Single US Airstrike Hav...</td>\n",
              "      <td>Jessica Purkiss</td>\n",
              "      <td>Videos 15 Civilians Killed In Single US Airstr...</td>\n",
              "      <td>1</td>\n",
              "    </tr>\n",
              "    <tr>\n",
              "      <th>4</th>\n",
              "      <td>4</td>\n",
              "      <td>Iranian woman jailed for fictional unpublished...</td>\n",
              "      <td>Howard Portnoy</td>\n",
              "      <td>Print \\nAn Iranian woman has been sentenced to...</td>\n",
              "      <td>1</td>\n",
              "    </tr>\n",
              "  </tbody>\n",
              "</table>\n",
              "</div>"
            ],
            "text/plain": [
              "   id  ... label\n",
              "0   0  ...     1\n",
              "1   1  ...     0\n",
              "2   2  ...     1\n",
              "3   3  ...     1\n",
              "4   4  ...     1\n",
              "\n",
              "[5 rows x 5 columns]"
            ]
          },
          "metadata": {
            "tags": []
          },
          "execution_count": 6
        }
      ]
    },
    {
      "cell_type": "code",
      "metadata": {
        "colab": {
          "base_uri": "https://localhost:8080/"
        },
        "id": "XHbheS1T1Zxk",
        "outputId": "bc79802b-0a8d-47aa-bffd-b0b40afee816"
      },
      "source": [
        "#We are trying to predict the label which is the dependent feature here.\n",
        "#Extracting the independent features\n",
        "X = df.drop('label', axis = 1)\n",
        "\n",
        "#Extracting the dependent features\n",
        "Y = df['label']\n",
        "\n",
        "#Checking how many 0,1 labels\n",
        "Y.value_counts()"
      ],
      "execution_count": 8,
      "outputs": [
        {
          "output_type": "execute_result",
          "data": {
            "text/plain": [
              "0    10361\n",
              "1     7924\n",
              "Name: label, dtype: int64"
            ]
          },
          "metadata": {
            "tags": []
          },
          "execution_count": 8
        }
      ]
    },
    {
      "cell_type": "code",
      "metadata": {
        "colab": {
          "base_uri": "https://localhost:8080/"
        },
        "id": "DilsANsU18-E",
        "outputId": "20197d98-becd-4e14-b822-9c8ad34cd9f4"
      },
      "source": [
        "vocabulary_size = 5000\n",
        "#5000 very common words, this excludes stopwords\n",
        "messages = X.copy()\n",
        "print(messages['title'][0])\n",
        "messages.reset_index(inplace = True)\n"
      ],
      "execution_count": 20,
      "outputs": [
        {
          "output_type": "stream",
          "text": [
            "House Dem Aide: We Didn’t Even See Comey’s Letter Until Jason Chaffetz Tweeted It\n"
          ],
          "name": "stdout"
        }
      ]
    },
    {
      "cell_type": "code",
      "metadata": {
        "id": "OeQEeX0t2aeL"
      },
      "source": [
        "#Data pre-processing\n",
        "ps = PorterStemmer()\n",
        "corpus = []\n",
        "for i in range(len(messages)):\n",
        "    review = re.sub('[^a-zA-Z]', ' ', messages['title'][i])\n",
        "    #Removing all special characters apart from a-z , A-Z\n",
        "    review = review.lower()\n",
        "    review = review.split()\n",
        "    \n",
        "    review = [ps.stem(word) for word in review if not word in stopwords.words('english')]\n",
        "    #Removing the stop words and performing stemming.\n",
        "    #An alternate could be to do lemmatization\n",
        "    review = ' '.join(review)\n",
        "    #reconstructing the sentence and appending to the corpus\n",
        "    corpus.append(review)\n",
        "\n",
        "#corpus"
      ],
      "execution_count": 18,
      "outputs": []
    },
    {
      "cell_type": "code",
      "metadata": {
        "id": "eziCje2N34ES"
      },
      "source": [
        "one_hot_representation = [one_hot(words, vocabulary_size) for words in corpus]\n",
        "#A one-hot word representation for the words in our corpus"
      ],
      "execution_count": 21,
      "outputs": []
    },
    {
      "cell_type": "code",
      "metadata": {
        "id": "znEPz0_i4uuz"
      },
      "source": [
        "embedding_length = 20\n",
        "embedded_representation = pad_sequences(one_hot_representation, padding = 'pre', maxlen = embedding_length)\n",
        "#An embedded one-hot-representation of our vocabulary\n",
        "#Since we're using an bidirectional LSTM, we can pre-pad or post-pad with zeros with no difference in result"
      ],
      "execution_count": 23,
      "outputs": []
    },
    {
      "cell_type": "code",
      "metadata": {
        "colab": {
          "base_uri": "https://localhost:8080/"
        },
        "id": "0ux2sGUP6Cy-",
        "outputId": "bf18d4df-e118-4a74-e811-095da66eb805"
      },
      "source": [
        "embedding_features = 50\n",
        "architecture = Sequential()\n",
        "architecture.add(Embedding(vocabulary_size, embedding_features, input_length = embedding_length))\n",
        "architecture.add(Bidirectional(LSTM(128)))\n",
        "architecture.add(Dropout(0.4))\n",
        "architecture.add(Dense(1 , activation = 'relu'))\n",
        "architecture.compile(loss = 'binary_crossentropy', optimizer='adam', metrics=['accuracy'])\n",
        "print(architecture.summary())"
      ],
      "execution_count": 39,
      "outputs": [
        {
          "output_type": "stream",
          "text": [
            "Model: \"sequential_4\"\n",
            "_________________________________________________________________\n",
            "Layer (type)                 Output Shape              Param #   \n",
            "=================================================================\n",
            "embedding_4 (Embedding)      (None, 20, 50)            250000    \n",
            "_________________________________________________________________\n",
            "bidirectional_4 (Bidirection (None, 256)               183296    \n",
            "_________________________________________________________________\n",
            "dropout_4 (Dropout)          (None, 256)               0         \n",
            "_________________________________________________________________\n",
            "dense_4 (Dense)              (None, 1)                 257       \n",
            "=================================================================\n",
            "Total params: 433,553\n",
            "Trainable params: 433,553\n",
            "Non-trainable params: 0\n",
            "_________________________________________________________________\n",
            "None\n"
          ],
          "name": "stdout"
        }
      ]
    },
    {
      "cell_type": "code",
      "metadata": {
        "id": "_erld1WB8eYo"
      },
      "source": [
        "X = np.array(embedded_representation)\n",
        "Y = np.array(Y)"
      ],
      "execution_count": 37,
      "outputs": []
    },
    {
      "cell_type": "code",
      "metadata": {
        "id": "M95AWBks9iY4"
      },
      "source": [
        "X_train, X_test, Y_train, Y_test = train_test_split(X, Y , shuffle = True, test_size = 0.2, random_state = 69)"
      ],
      "execution_count": 31,
      "outputs": []
    },
    {
      "cell_type": "code",
      "metadata": {
        "colab": {
          "base_uri": "https://localhost:8080/"
        },
        "id": "KpbLnuGj-HnR",
        "outputId": "42bb4e32-8e38-4382-ac83-b9e750b6a1a9"
      },
      "source": [
        "architecture.fit(X_train, Y_train, validation_data = (X_test, Y_test), epochs = 10, batch_size = 64)"
      ],
      "execution_count": 40,
      "outputs": [
        {
          "output_type": "stream",
          "text": [
            "Epoch 1/10\n",
            "229/229 [==============================] - 19s 71ms/step - loss: 0.6483 - accuracy: 0.7469 - val_loss: 0.2855 - val_accuracy: 0.9125\n",
            "Epoch 2/10\n",
            "229/229 [==============================] - 16s 72ms/step - loss: 0.2700 - accuracy: 0.8741 - val_loss: 0.4841 - val_accuracy: 0.6765\n",
            "Epoch 3/10\n",
            "229/229 [==============================] - 16s 71ms/step - loss: 0.2823 - accuracy: 0.8742 - val_loss: 0.3190 - val_accuracy: 0.9059\n",
            "Epoch 4/10\n",
            "229/229 [==============================] - 16s 71ms/step - loss: 0.2064 - accuracy: 0.9328 - val_loss: 0.3300 - val_accuracy: 0.8460\n",
            "Epoch 5/10\n",
            "229/229 [==============================] - 16s 69ms/step - loss: 0.1870 - accuracy: 0.9346 - val_loss: 0.4620 - val_accuracy: 0.9169\n",
            "Epoch 6/10\n",
            "229/229 [==============================] - 16s 69ms/step - loss: 0.1507 - accuracy: 0.9539 - val_loss: 0.3794 - val_accuracy: 0.9193\n",
            "Epoch 7/10\n",
            "229/229 [==============================] - 16s 70ms/step - loss: 0.1137 - accuracy: 0.9675 - val_loss: 0.4696 - val_accuracy: 0.9210\n",
            "Epoch 8/10\n",
            "229/229 [==============================] - 16s 70ms/step - loss: 0.0978 - accuracy: 0.9794 - val_loss: 0.5893 - val_accuracy: 0.9218\n",
            "Epoch 9/10\n",
            "229/229 [==============================] - 16s 70ms/step - loss: 0.0901 - accuracy: 0.9834 - val_loss: 0.6092 - val_accuracy: 0.9182\n",
            "Epoch 10/10\n",
            "229/229 [==============================] - 16s 68ms/step - loss: 0.0636 - accuracy: 0.9883 - val_loss: 0.6973 - val_accuracy: 0.9150\n"
          ],
          "name": "stdout"
        },
        {
          "output_type": "execute_result",
          "data": {
            "text/plain": [
              "<tensorflow.python.keras.callbacks.History at 0x7f3e7241b2b0>"
            ]
          },
          "metadata": {
            "tags": []
          },
          "execution_count": 40
        }
      ]
    },
    {
      "cell_type": "code",
      "metadata": {
        "colab": {
          "base_uri": "https://localhost:8080/"
        },
        "id": "VhnLI-YF-XD2",
        "outputId": "d934f8d6-a58d-47b9-c2a9-85b4941537bd"
      },
      "source": [
        "#Performance metrics\n",
        "predictions = architecture.predict_classes(X_test)\n",
        "print(confusion_matrix(Y_test, predictions))\n",
        "print(accuracy_score(Y_test, predictions))\n",
        "print(classification_report(Y_test, predictions))"
      ],
      "execution_count": 45,
      "outputs": [
        {
          "output_type": "stream",
          "text": [
            "/usr/local/lib/python3.6/dist-packages/tensorflow/python/keras/engine/sequential.py:450: UserWarning: `model.predict_classes()` is deprecated and will be removed after 2021-01-01. Please use instead:* `np.argmax(model.predict(x), axis=-1)`,   if your model does multi-class classification   (e.g. if it uses a `softmax` last-layer activation).* `(model.predict(x) > 0.5).astype(\"int32\")`,   if your model does binary classification   (e.g. if it uses a `sigmoid` last-layer activation).\n",
            "  warnings.warn('`model.predict_classes()` is deprecated and '\n"
          ],
          "name": "stderr"
        },
        {
          "output_type": "stream",
          "text": [
            "[[1941  187]\n",
            " [ 124 1405]]\n",
            "0.9149576155318567\n",
            "              precision    recall  f1-score   support\n",
            "\n",
            "           0       0.94      0.91      0.93      2128\n",
            "           1       0.88      0.92      0.90      1529\n",
            "\n",
            "    accuracy                           0.91      3657\n",
            "   macro avg       0.91      0.92      0.91      3657\n",
            "weighted avg       0.92      0.91      0.92      3657\n",
            "\n"
          ],
          "name": "stdout"
        }
      ]
    },
    {
      "cell_type": "code",
      "metadata": {
        "id": "C_-wu0lcCFei"
      },
      "source": [
        ""
      ],
      "execution_count": null,
      "outputs": []
    }
  ]
}